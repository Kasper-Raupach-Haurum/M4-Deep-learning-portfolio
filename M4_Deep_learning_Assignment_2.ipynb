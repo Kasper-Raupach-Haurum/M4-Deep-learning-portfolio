{
  "nbformat": 4,
  "nbformat_minor": 0,
  "metadata": {
    "colab": {
      "provenance": [],
      "include_colab_link": true
    },
    "kernelspec": {
      "name": "python3",
      "display_name": "Python 3"
    },
    "language_info": {
      "name": "python"
    }
  },
  "cells": [
    {
      "cell_type": "markdown",
      "metadata": {
        "id": "view-in-github",
        "colab_type": "text"
      },
      "source": [
        "<a href=\"https://colab.research.google.com/github/Kasper-Raupach-Haurum/M4-Deep-learning-portfolio/blob/main/M4_Deep_learning_Assignment_2.ipynb\" target=\"_parent\"><img src=\"https://colab.research.google.com/assets/colab-badge.svg\" alt=\"Open In Colab\"/></a>"
      ]
    },
    {
      "cell_type": "markdown",
      "source": [
        "**Assignment 2: Construct a CNN & LSTM/RNN Neural network with at least 2 different variations of hyperparameters for each network**\n",
        "\n",
        "- In this group we are Raiyan Alam & Kasper Haurum, and we will accomplish the aforemetioned tasks within the Module 4: Deep learning. Starting off, we will first be taking on the goal of creating a CNN Network"
      ],
      "metadata": {
        "id": "c56TjACbuhGL"
      }
    },
    {
      "cell_type": "code",
      "source": [
        "!git clone https://github.com/Kasper-Raupach-Haurum/M4-Deep-learning-portfolio.git"
      ],
      "metadata": {
        "colab": {
          "base_uri": "https://localhost:8080/"
        },
        "id": "uH_-Oroa1FZ_",
        "outputId": "a89e5955-b4ca-4f40-a43f-319214a5ecba"
      },
      "execution_count": null,
      "outputs": [
        {
          "output_type": "stream",
          "name": "stdout",
          "text": [
            "Cloning into 'M4-Deep-learning-portfolio'...\n",
            "remote: Enumerating objects: 36, done.\u001b[K\n",
            "remote: Counting objects: 100% (36/36), done.\u001b[K\n",
            "remote: Compressing objects: 100% (35/35), done.\u001b[K\n",
            "remote: Total 36 (delta 11), reused 0 (delta 0), pack-reused 0\u001b[K\n",
            "Unpacking objects: 100% (36/36), 7.23 MiB | 6.26 MiB/s, done.\n"
          ]
        }
      ]
    },
    {
      "cell_type": "markdown",
      "source": [
        "# **Task 1: CNN Spatial prediction**\n",
        "\n",
        "For the CNN neural network we will select the Semester 1 dataset that contains political tweets from US Citizens as we want to see if we can make a CNN network that can do a prediction based on the key words from each political side, that being Republican and Democrat."
      ],
      "metadata": {
        "id": "M2fUKiKrFAzW"
      }
    },
    {
      "cell_type": "code",
      "source": [
        "data = pol_tweets = pd.read_json('https://github.com/SDS-AAU/SDS-master/raw/master/M2/data/pol_tweets.gz')"
      ],
      "metadata": {
        "id": "j3wpfK3cjqrU"
      },
      "execution_count": null,
      "outputs": []
    },
    {
      "cell_type": "markdown",
      "source": [
        "What comes next is the import of the required libraries & configuration of the CNN model, in which we will use the wandb visualisation tool to accomplish the task."
      ],
      "metadata": {
        "id": "Xdh9boYevged"
      }
    },
    {
      "cell_type": "code",
      "source": [
        "import torch\n",
        "import torch.nn.functional as F\n",
        "import torchvision\n",
        "import torchvision.transforms as transforms\n",
        "import torch.nn as nn"
      ],
      "metadata": {
        "id": "tIrO2lQ8mW-e"
      },
      "execution_count": null,
      "outputs": []
    },
    {
      "cell_type": "code",
      "source": [
        "# Device configuration\n",
        "device = torch.device('cuda' if torch.cuda.is_available() else 'cpu')"
      ],
      "metadata": {
        "id": "w8-fzgAQmZnt"
      },
      "execution_count": null,
      "outputs": []
    },
    {
      "cell_type": "code",
      "execution_count": null,
      "metadata": {
        "id": "909a5621"
      },
      "outputs": [],
      "source": [
        "# Hyper-parameters of the model\n",
        "num_epochs = 4\n",
        "batch_size = 4\n",
        "learning_rate = 0.003"
      ]
    },
    {
      "cell_type": "code",
      "execution_count": null,
      "metadata": {
        "id": "30a351dd"
      },
      "outputs": [],
      "source": [
        "#I am using https://wandb.ai/site as my performance visualisation tool.\n",
        "#import wandb\n",
        "#wandb.init(project=\"lecture CNN\", entity=\"xxx\")\n",
        "#wandb.config = {\n",
        "#  \"learning_rate\": learning_rate,\n",
        "#  \"epochs\": num_epochs,\n",
        "#  \"batch_size\": batch_size\n",
        "#}\n"
      ]
    },
    {
      "cell_type": "code",
      "execution_count": null,
      "metadata": {
        "id": "e11f9490"
      },
      "outputs": [],
      "source": [
        "# We transform them to Tensors of normalized range [-1, 1]\n",
        "transform = transforms.Compose(\n",
        "    [transforms.ToTensor(),\n",
        "     transforms.Normalize((0.5, 0.5, 0.5), (0.5, 0.5, 0.5))])"
      ]
    },
    {
      "cell_type": "code",
      "execution_count": null,
      "metadata": {
        "id": "0616bc72",
        "colab": {
          "base_uri": "https://localhost:8080/"
        },
        "outputId": "819831a4-5be5-4685-9408-064857ac1c12"
      },
      "outputs": [
        {
          "output_type": "stream",
          "name": "stdout",
          "text": [
            "Files already downloaded and verified\n",
            "Files already downloaded and verified\n"
          ]
        }
      ],
      "source": [
        "#DOWNLOAD DATASET \n",
        "train_dataset = torchvision.datasets.CIFAR10(root = 'https://github.com/SDS-AAU/SDS-master/raw/master/M2/data/pol_tweets.gz', train=True,\n",
        "                                            download=True, transform=transform)\n",
        "\n",
        "\n",
        "test_dataset = torchvision.datasets.CIFAR10(root = 'https://github.com/SDS-AAU/SDS-master/raw/master/M2/data/pol_tweets.gz', train=False,\n",
        "                                            download=True, transform=transform)\n"
      ]
    },
    {
      "cell_type": "markdown",
      "source": [
        "**1st variation of the CNN: Republican key words predictor**\n",
        "\n",
        "Using the key phrases that had the highest feature importance when we worked on the pol_tweet dataset, we set it as the classes for the train/test dataset"
      ],
      "metadata": {
        "id": "fbAekxkdp5un"
      }
    },
    {
      "cell_type": "code",
      "source": [
        "train_loader = torch.utils.data.DataLoader(train_dataset, batch_size = batch_size, shuffle=True)\n",
        "\n",
        "test_loader = torch.utils.data.DataLoader(test_dataset, batch_size = batch_size, shuffle=False)\n",
        "\n",
        "classes = ('trump', 'forthepeople', 'climate', 'black', 'crisis', 'democracy', 'heroesact', 'china', 'democrats', 'inittogether')"
      ],
      "metadata": {
        "id": "v55JwKRkm9be"
      },
      "execution_count": null,
      "outputs": []
    },
    {
      "cell_type": "markdown",
      "source": [
        "The following commands will then set the parameters of the model"
      ],
      "metadata": {
        "id": "rvRRmPtZwE1j"
      }
    },
    {
      "cell_type": "code",
      "source": [
        "# implement conv net\n",
        "class ConvNet(nn.Module):\n",
        "    def __init__(self):\n",
        "        super(ConvNet, self).__init__()\n",
        "        self.conv1 = nn.Conv2d(3, 6, 5) #3 channels, 6 filters, 5x5 filter size\n",
        "        self.pool = nn.MaxPool2d(2,2) #size 2X2, stride: 2\n",
        "        self.conv2 = nn.Conv2d(6, 16, 5)\n",
        "        self.fc1 = nn.Linear(16*5*5, 120) #16*5*5= number of output channels * dimension of the output layer after feature learning; 120 manually set as outcome of the \n",
        "        self.fc2 = nn.Linear(120, 84)\n",
        "        self.fc3 = nn.Linear(84, 10) #the output dimension (in our case 10) needs to be equal to the number of classes\n",
        "    \n",
        "    def forward(self, x):\n",
        "        x = self.pool(F.relu(self.conv1(x)))\n",
        "        x = self.pool(F.relu(self.conv2(x)))\n",
        "        x = x.view(-1, 16*5*5) #torch.view() function freshape the input tensor\n",
        "        x = F.relu(self.fc1(x))\n",
        "        x = F.relu(self.fc2(x))\n",
        "        x = self.fc3(x)\n",
        "        return x\n",
        "    \n",
        "model = ConvNet().to(device)"
      ],
      "metadata": {
        "id": "BH8EQDLpncmm"
      },
      "execution_count": null,
      "outputs": []
    },
    {
      "cell_type": "code",
      "source": [
        "criterion = nn.CrossEntropyLoss() #CrossEntropyLoss already includes SoftMax\n",
        "optimizer = torch.optim.SGD(model.parameters(), lr=learning_rate)"
      ],
      "metadata": {
        "id": "YPKmq_6bnqQu"
      },
      "execution_count": null,
      "outputs": []
    },
    {
      "cell_type": "code",
      "source": [
        "n_total_steps = len(train_loader)\n",
        "for epoch in range(num_epochs):\n",
        "    for i, (images, labels) in enumerate(train_loader):\n",
        "        # origin shape: [4, 3, 32, 32] = 4, 3, 1024\n",
        "        # input_layer: 3 input channels, 6 output channels, 5 kernel size\n",
        "        images = images.to(device)\n",
        "        labels = labels.to(device)\n",
        "\n",
        "        # Forward pass\n",
        "        outputs = model(images)\n",
        "        loss = criterion(outputs, labels)\n",
        "        \n",
        "        # Backward and optimize\n",
        "        optimizer.zero_grad() #with zero_grad() we ensure that the gradients are properly reset to zero at the start of each iteration\n",
        "        loss.backward()\n",
        "        optimizer.step()\n",
        "        #wandb.log({\"loss\": loss})  uncomment this line if you want to send data to weights and biases interface\n",
        "\n",
        "\n",
        "        if (i+1) % 2000 == 0:\n",
        "            print (f'Epoch [{epoch+1}/{num_epochs}], Step [{i+1}/{n_total_steps}], Loss: {loss.item():.4f}')\n",
        "            # Calculate average accuracy for every 2000 steps\n",
        "            model.eval()\n",
        "            with torch.no_grad():\n",
        "                correct = 0\n",
        "                total = 0\n",
        "                for images, labels in test_loader:\n",
        "                    images = images.to(device)\n",
        "                    labels = labels.to(device)\n",
        "                    outputs = model(images)\n",
        "                    _, predicted = torch.max(outputs.data, 1)\n",
        "                    total += labels.size(0)\n",
        "                    correct += (predicted == labels).sum().item()\n",
        "                accuracy = correct / total\n",
        "                #wandb.log({\"accuracy\": accuracy}) uncomment this line if you want to send data to weights and biases interface\n",
        "        \n",
        "print('Finished Training')\n",
        "PATH = './cnn.pth'\n",
        "torch.save(model.state_dict(), PATH)"
      ],
      "metadata": {
        "colab": {
          "base_uri": "https://localhost:8080/"
        },
        "id": "4o9GJSyxntKe",
        "outputId": "278f7302-c3bf-4f17-99cd-e2366ecbcdab"
      },
      "execution_count": null,
      "outputs": [
        {
          "output_type": "stream",
          "name": "stdout",
          "text": [
            "Epoch [1/4], Step [2000/12500], Loss: 2.3242\n",
            "Epoch [1/4], Step [4000/12500], Loss: 1.7173\n",
            "Epoch [1/4], Step [6000/12500], Loss: 1.8615\n",
            "Epoch [1/4], Step [8000/12500], Loss: 2.0165\n",
            "Epoch [1/4], Step [10000/12500], Loss: 1.2705\n",
            "Epoch [1/4], Step [12000/12500], Loss: 2.2961\n",
            "Epoch [2/4], Step [2000/12500], Loss: 1.1585\n",
            "Epoch [2/4], Step [4000/12500], Loss: 1.4549\n",
            "Epoch [2/4], Step [6000/12500], Loss: 1.3348\n",
            "Epoch [2/4], Step [8000/12500], Loss: 1.3415\n",
            "Epoch [2/4], Step [10000/12500], Loss: 1.8005\n",
            "Epoch [2/4], Step [12000/12500], Loss: 1.0582\n",
            "Epoch [3/4], Step [2000/12500], Loss: 1.2610\n",
            "Epoch [3/4], Step [4000/12500], Loss: 1.9465\n",
            "Epoch [3/4], Step [6000/12500], Loss: 0.9293\n",
            "Epoch [3/4], Step [8000/12500], Loss: 1.3141\n",
            "Epoch [3/4], Step [10000/12500], Loss: 0.7463\n",
            "Epoch [3/4], Step [12000/12500], Loss: 1.8606\n",
            "Epoch [4/4], Step [2000/12500], Loss: 1.1435\n",
            "Epoch [4/4], Step [4000/12500], Loss: 2.4889\n",
            "Epoch [4/4], Step [6000/12500], Loss: 1.4189\n",
            "Epoch [4/4], Step [8000/12500], Loss: 0.5892\n",
            "Epoch [4/4], Step [10000/12500], Loss: 0.6810\n",
            "Epoch [4/4], Step [12000/12500], Loss: 0.7617\n",
            "Finished Training\n"
          ]
        }
      ]
    },
    {
      "cell_type": "code",
      "source": [
        "with torch.no_grad():\n",
        "    n_correct = 0\n",
        "    n_samples = 0\n",
        "    n_class_correct = [0 for i in range(10)]\n",
        "    n_class_samples = [0 for i in range(10)]\n",
        "    for images, labels in test_loader:\n",
        "        images = images.to(device)\n",
        "        labels = labels.to(device)\n",
        "        outputs = model(images)\n",
        "        # max returns (value ,index)\n",
        "        _, predicted = torch.max(outputs, 1)\n",
        "        n_samples += labels.size(0)\n",
        "        n_correct += (predicted == labels).sum().item()\n",
        "        \n",
        "        for i in range(batch_size):\n",
        "            label = labels[i]\n",
        "            pred = predicted[i]\n",
        "            if (label == pred):\n",
        "                n_class_correct[label] += 1\n",
        "            n_class_samples[label] += 1\n",
        "\n",
        "    acc = 100.0 * n_correct / n_samples\n",
        "    print(f'Accuracy of the network: {acc} %')\n",
        "\n",
        "    for i in range(10):\n",
        "        acc = 100.0 * n_class_correct[i] / n_class_samples[i]\n",
        "        print(f'Accuracy of {classes[i]}: {acc} %')"
      ],
      "metadata": {
        "colab": {
          "base_uri": "https://localhost:8080/"
        },
        "id": "YgqdERcCoNPm",
        "outputId": "15b9a680-08f1-4d44-ecde-e02063df287c"
      },
      "execution_count": null,
      "outputs": [
        {
          "output_type": "stream",
          "name": "stdout",
          "text": [
            "Accuracy of the network: 54.58 %\n",
            "Accuracy of trump: 74.5 %\n",
            "Accuracy of forthepeople: 67.5 %\n",
            "Accuracy of climate: 46.8 %\n",
            "Accuracy of black: 36.5 %\n",
            "Accuracy of crisis: 38.9 %\n",
            "Accuracy of democracy: 35.8 %\n",
            "Accuracy of heroesact: 72.3 %\n",
            "Accuracy of china: 63.0 %\n",
            "Accuracy of democrats: 53.0 %\n",
            "Accuracy of \tinittogether: 57.5 %\n"
          ]
        }
      ]
    },
    {
      "cell_type": "markdown",
      "source": [
        "When compared to the Module 1: Democrat/Republican tweets NLP we made on the first semester, the accuracy of the CNN network seems to be nearly the same on many of the key words used by the republican tweeters, which would point in the direction of the CNN neural network working effectively as it has a 54.58% accuracy rating"
      ],
      "metadata": {
        "id": "3zXgz_-EqMIX"
      }
    },
    {
      "cell_type": "markdown",
      "source": [
        "**2st variation of the CNN: Democrat key words predictor**\n",
        "\n",
        "Like with the Republicans, we will now turn the table around and look at the key words tweeted from the Democrat side."
      ],
      "metadata": {
        "id": "xb_2GqcMqGIH"
      }
    },
    {
      "cell_type": "code",
      "source": [
        "train_loader = torch.utils.data.DataLoader(train_dataset, batch_size = batch_size, shuffle=True)\n",
        "\n",
        "test_loader = torch.utils.data.DataLoader(test_dataset, batch_size = batch_size, shuffle=False)\n",
        "\n",
        "classes = ('biden', 'inittogether', 'dems', 'paycheckprotectionprogram', 'obama', 'congress', 'latinx', 'wellfare', 'diversity', 'lgbtq')"
      ],
      "metadata": {
        "id": "ffFe6XbXuQkk"
      },
      "execution_count": null,
      "outputs": []
    },
    {
      "cell_type": "code",
      "source": [
        "# implement conv net\n",
        "class ConvNet(nn.Module):\n",
        "    def __init__(self):\n",
        "        super(ConvNet, self).__init__()\n",
        "        self.conv1 = nn.Conv2d(3, 6, 5) #3 channels, 6 filters, 5x5 filter size\n",
        "        self.pool = nn.MaxPool2d(2,2) #size 2X2, stride: 2\n",
        "        self.conv2 = nn.Conv2d(6, 16, 5)\n",
        "        self.fc1 = nn.Linear(16*5*5, 120) #16*5*5= number of output channels * dimension of the output layer after feature learning; 120 manually set as outcome of the \n",
        "        self.fc2 = nn.Linear(120, 84)\n",
        "        self.fc3 = nn.Linear(84, 10) #the output dimension (in our case 10) needs to be equal to the number of classes\n",
        "    \n",
        "    def forward(self, x):\n",
        "        x = self.pool(F.relu(self.conv1(x)))\n",
        "        x = self.pool(F.relu(self.conv2(x)))\n",
        "        x = x.view(-1, 16*5*5) #torch.view() function freshape the input tensor\n",
        "        x = F.relu(self.fc1(x))\n",
        "        x = F.relu(self.fc2(x))\n",
        "        x = self.fc3(x)\n",
        "        return x\n",
        "    \n",
        "model = ConvNet().to(device)"
      ],
      "metadata": {
        "id": "CeHSlCUfuQkl"
      },
      "execution_count": null,
      "outputs": []
    },
    {
      "cell_type": "code",
      "source": [
        "criterion = nn.CrossEntropyLoss() #CrossEntropyLoss already includes SoftMax\n",
        "optimizer = torch.optim.SGD(model.parameters(), lr=learning_rate)"
      ],
      "metadata": {
        "id": "DmkkHhq1uQkl"
      },
      "execution_count": null,
      "outputs": []
    },
    {
      "cell_type": "code",
      "source": [
        "n_total_steps = len(train_loader)\n",
        "for epoch in range(num_epochs):\n",
        "    for i, (images, labels) in enumerate(train_loader):\n",
        "        # origin shape: [4, 3, 32, 32] = 4, 3, 1024\n",
        "        # input_layer: 3 input channels, 6 output channels, 5 kernel size\n",
        "        images = images.to(device)\n",
        "        labels = labels.to(device)\n",
        "\n",
        "        # Forward pass\n",
        "        outputs = model(images)\n",
        "        loss = criterion(outputs, labels)\n",
        "        \n",
        "        # Backward and optimize\n",
        "        optimizer.zero_grad() #with zero_grad() we ensure that the gradients are properly reset to zero at the start of each iteration\n",
        "        loss.backward()\n",
        "        optimizer.step()\n",
        "        #wandb.log({\"loss\": loss})  uncomment this line if you want to send data to weights and biases interface\n",
        "\n",
        "\n",
        "        if (i+1) % 2000 == 0:\n",
        "            print (f'Epoch [{epoch+1}/{num_epochs}], Step [{i+1}/{n_total_steps}], Loss: {loss.item():.4f}')\n",
        "            # Calculate average accuracy for every 2000 steps\n",
        "            model.eval()\n",
        "            with torch.no_grad():\n",
        "                correct = 0\n",
        "                total = 0\n",
        "                for images, labels in test_loader:\n",
        "                    images = images.to(device)\n",
        "                    labels = labels.to(device)\n",
        "                    outputs = model(images)\n",
        "                    _, predicted = torch.max(outputs.data, 1)\n",
        "                    total += labels.size(0)\n",
        "                    correct += (predicted == labels).sum().item()\n",
        "                accuracy = correct / total\n",
        "                #wandb.log({\"accuracy\": accuracy}) uncomment this line if you want to send data to weights and biases interface\n",
        "        \n",
        "print('Finished Training')\n",
        "PATH = './cnn.pth'\n",
        "torch.save(model.state_dict(), PATH)"
      ],
      "metadata": {
        "colab": {
          "base_uri": "https://localhost:8080/"
        },
        "outputId": "606ef895-8b2c-4a56-a798-8d0dbb600e2f",
        "id": "AMdpdooFuQkl"
      },
      "execution_count": null,
      "outputs": [
        {
          "output_type": "stream",
          "name": "stdout",
          "text": [
            "Epoch [1/4], Step [2000/12500], Loss: 2.2709\n",
            "Epoch [1/4], Step [4000/12500], Loss: 2.4928\n",
            "Epoch [1/4], Step [6000/12500], Loss: 1.9840\n",
            "Epoch [1/4], Step [8000/12500], Loss: 1.6408\n",
            "Epoch [1/4], Step [10000/12500], Loss: 1.7466\n",
            "Epoch [1/4], Step [12000/12500], Loss: 1.3473\n",
            "Epoch [2/4], Step [2000/12500], Loss: 1.8188\n",
            "Epoch [2/4], Step [4000/12500], Loss: 1.4858\n",
            "Epoch [2/4], Step [6000/12500], Loss: 2.2039\n",
            "Epoch [2/4], Step [8000/12500], Loss: 1.6798\n",
            "Epoch [2/4], Step [10000/12500], Loss: 2.3042\n",
            "Epoch [2/4], Step [12000/12500], Loss: 1.6577\n",
            "Epoch [3/4], Step [2000/12500], Loss: 1.2594\n",
            "Epoch [3/4], Step [4000/12500], Loss: 1.5158\n",
            "Epoch [3/4], Step [6000/12500], Loss: 0.6890\n",
            "Epoch [3/4], Step [8000/12500], Loss: 1.7437\n",
            "Epoch [3/4], Step [10000/12500], Loss: 1.5062\n",
            "Epoch [3/4], Step [12000/12500], Loss: 0.3479\n",
            "Epoch [4/4], Step [2000/12500], Loss: 1.3939\n",
            "Epoch [4/4], Step [4000/12500], Loss: 2.4791\n",
            "Epoch [4/4], Step [6000/12500], Loss: 0.7714\n",
            "Epoch [4/4], Step [8000/12500], Loss: 0.8681\n",
            "Epoch [4/4], Step [10000/12500], Loss: 0.9360\n",
            "Epoch [4/4], Step [12000/12500], Loss: 1.6091\n",
            "Finished Training\n"
          ]
        }
      ]
    },
    {
      "cell_type": "code",
      "source": [
        "with torch.no_grad():\n",
        "    n_correct = 0\n",
        "    n_samples = 0\n",
        "    n_class_correct = [0 for i in range(10)]\n",
        "    n_class_samples = [0 for i in range(10)]\n",
        "    for images, labels in test_loader:\n",
        "        images = images.to(device)\n",
        "        labels = labels.to(device)\n",
        "        outputs = model(images)\n",
        "        # max returns (value ,index)\n",
        "        _, predicted = torch.max(outputs, 1)\n",
        "        n_samples += labels.size(0)\n",
        "        n_correct += (predicted == labels).sum().item()\n",
        "        \n",
        "        for i in range(batch_size):\n",
        "            label = labels[i]\n",
        "            pred = predicted[i]\n",
        "            if (label == pred):\n",
        "                n_class_correct[label] += 1\n",
        "            n_class_samples[label] += 1\n",
        "\n",
        "    acc = 100.0 * n_correct / n_samples\n",
        "    print(f'Accuracy of the network: {acc} %')\n",
        "\n",
        "    for i in range(10):\n",
        "        acc = 100.0 * n_class_correct[i] / n_class_samples[i]\n",
        "        print(f'Accuracy of {classes[i]}: {acc} %')"
      ],
      "metadata": {
        "colab": {
          "base_uri": "https://localhost:8080/"
        },
        "outputId": "656ad332-b088-4d68-e34e-8f0a169ecb74",
        "id": "Z3nsSCEnuQkl"
      },
      "execution_count": null,
      "outputs": [
        {
          "output_type": "stream",
          "name": "stdout",
          "text": [
            "Accuracy of the network: 56.09 %\n",
            "Accuracy of biden: 69.6 %\n",
            "Accuracy of inittogether: 63.1 %\n",
            "Accuracy of dems: 32.7 %\n",
            "Accuracy of \tpaycheckprotectionprogram: 28.9 %\n",
            "Accuracy of obama: 60.3 %\n",
            "Accuracy of congress: 52.9 %\n",
            "Accuracy of latinx: 65.7 %\n",
            "Accuracy of wellfare: 70.7 %\n",
            "Accuracy of diversity: 54.7 %\n",
            "Accuracy of lgbtq: 62.3 %\n"
          ]
        }
      ]
    },
    {
      "cell_type": "markdown",
      "source": [
        "\n",
        "In this case the network has a slight improvement as far as accuracy rating goes, with a rating of 56.09%, which could be due to the words being more prominent, thus a bigger sample size, whilst words such as \"paycheckprotectionprogram\" are less frequent"
      ],
      "metadata": {
        "id": "ve9D3frOwrNt"
      }
    },
    {
      "cell_type": "code",
      "source": [
        "train_loader = torch.utils.data.DataLoader(train_dataset, batch_size = batch_size, shuffle=True)\n",
        "\n",
        "test_loader = torch.utils.data.DataLoader(test_dataset, batch_size = batch_size, shuffle=False)\n",
        "\n",
        "classes = ('biden', 'inittogether', 'dems', 'paycheckprotectionprogram', 'obama', 'congress', 'latinx', 'wellfare', 'diversity', 'lgbtq')"
      ],
      "metadata": {
        "id": "fo6V-GaGqn4I"
      },
      "execution_count": null,
      "outputs": []
    },
    {
      "cell_type": "code",
      "source": [
        "# implement conv net\n",
        "class ConvNet(nn.Module):\n",
        "    def __init__(self):\n",
        "        super(ConvNet, self).__init__()\n",
        "        self.conv1 = nn.Conv2d(3, 6, 5) #3 channels, 6 filters, 5x5 filter size\n",
        "        self.pool = nn.MaxPool2d(2,2) #size 2X2, stride: 2\n",
        "        self.conv2 = nn.Conv2d(6, 16, 5)\n",
        "        self.fc1 = nn.Linear(16*5*5, 120) #16*5*5= number of output channels * dimension of the output layer after feature learning; 120 manually set as outcome of the \n",
        "        self.fc2 = nn.Linear(120, 84)\n",
        "        self.fc3 = nn.Linear(84, 10) #the output dimension (in our case 10) needs to be equal to the number of classes\n",
        "    \n",
        "    def forward(self, x):\n",
        "        x = self.pool(F.relu(self.conv1(x)))\n",
        "        x = self.pool(F.relu(self.conv2(x)))\n",
        "        x = x.view(-1, 16*5*5) #torch.view() function freshape the input tensor\n",
        "        x = F.relu(self.fc1(x))\n",
        "        x = F.relu(self.fc2(x))\n",
        "        x = self.fc3(x)\n",
        "        return x\n",
        "    \n",
        "model = ConvNet().to(device)"
      ],
      "metadata": {
        "id": "Cr_hoRl7rixK"
      },
      "execution_count": null,
      "outputs": []
    },
    {
      "cell_type": "code",
      "source": [
        "criterion = nn.CrossEntropyLoss() #CrossEntropyLoss already includes SoftMax\n",
        "optimizer = torch.optim.SGD(model.parameters(), lr=learning_rate)"
      ],
      "metadata": {
        "id": "9_q-nOu5rlw4"
      },
      "execution_count": null,
      "outputs": []
    },
    {
      "cell_type": "code",
      "source": [
        "n_total_steps = len(train_loader)\n",
        "for epoch in range(num_epochs):\n",
        "    for i, (images, labels) in enumerate(train_loader):\n",
        "        # origin shape: [4, 3, 32, 32] = 4, 3, 1024\n",
        "        # input_layer: 3 input channels, 6 output channels, 5 kernel size\n",
        "        images = images.to(device)\n",
        "        labels = labels.to(device)\n",
        "\n",
        "        # Forward pass\n",
        "        outputs = model(images)\n",
        "        loss = criterion(outputs, labels)\n",
        "        \n",
        "        # Backward and optimize\n",
        "        optimizer.zero_grad() #with zero_grad() we ensure that the gradients are properly reset to zero at the start of each iteration\n",
        "        loss.backward()\n",
        "        optimizer.step()\n",
        "        #wandb.log({\"loss\": loss})  uncomment this line if you want to send data to weights and biases interface\n",
        "\n",
        "\n",
        "        if (i+1) % 2000 == 0:\n",
        "            print (f'Epoch [{epoch+1}/{num_epochs}], Step [{i+1}/{n_total_steps}], Loss: {loss.item():.4f}')\n",
        "            # Calculate average accuracy for every 2000 steps\n",
        "            model.eval()\n",
        "            with torch.no_grad():\n",
        "                correct = 0\n",
        "                total = 0\n",
        "                for images, labels in test_loader:\n",
        "                    images = images.to(device)\n",
        "                    labels = labels.to(device)\n",
        "                    outputs = model(images)\n",
        "                    _, predicted = torch.max(outputs.data, 1)\n",
        "                    total += labels.size(0)\n",
        "                    correct += (predicted == labels).sum().item()\n",
        "                accuracy = correct / total\n",
        "                #wandb.log({\"accuracy\": accuracy}) uncomment this line if you want to send data to weights and biases interface\n",
        "        \n",
        "print('Finished Training')\n",
        "PATH = './cnn.pth'\n",
        "torch.save(model.state_dict(), PATH)"
      ],
      "metadata": {
        "colab": {
          "base_uri": "https://localhost:8080/"
        },
        "id": "6gqhl7SorpRg",
        "outputId": "606ef895-8b2c-4a56-a798-8d0dbb600e2f"
      },
      "execution_count": null,
      "outputs": [
        {
          "output_type": "stream",
          "name": "stdout",
          "text": [
            "Epoch [1/4], Step [2000/12500], Loss: 2.2709\n",
            "Epoch [1/4], Step [4000/12500], Loss: 2.4928\n",
            "Epoch [1/4], Step [6000/12500], Loss: 1.9840\n",
            "Epoch [1/4], Step [8000/12500], Loss: 1.6408\n",
            "Epoch [1/4], Step [10000/12500], Loss: 1.7466\n",
            "Epoch [1/4], Step [12000/12500], Loss: 1.3473\n",
            "Epoch [2/4], Step [2000/12500], Loss: 1.8188\n",
            "Epoch [2/4], Step [4000/12500], Loss: 1.4858\n",
            "Epoch [2/4], Step [6000/12500], Loss: 2.2039\n",
            "Epoch [2/4], Step [8000/12500], Loss: 1.6798\n",
            "Epoch [2/4], Step [10000/12500], Loss: 2.3042\n",
            "Epoch [2/4], Step [12000/12500], Loss: 1.6577\n",
            "Epoch [3/4], Step [2000/12500], Loss: 1.2594\n",
            "Epoch [3/4], Step [4000/12500], Loss: 1.5158\n",
            "Epoch [3/4], Step [6000/12500], Loss: 0.6890\n",
            "Epoch [3/4], Step [8000/12500], Loss: 1.7437\n",
            "Epoch [3/4], Step [10000/12500], Loss: 1.5062\n",
            "Epoch [3/4], Step [12000/12500], Loss: 0.3479\n",
            "Epoch [4/4], Step [2000/12500], Loss: 1.3939\n",
            "Epoch [4/4], Step [4000/12500], Loss: 2.4791\n",
            "Epoch [4/4], Step [6000/12500], Loss: 0.7714\n",
            "Epoch [4/4], Step [8000/12500], Loss: 0.8681\n",
            "Epoch [4/4], Step [10000/12500], Loss: 0.9360\n",
            "Epoch [4/4], Step [12000/12500], Loss: 1.6091\n",
            "Finished Training\n"
          ]
        }
      ]
    },
    {
      "cell_type": "code",
      "source": [
        "with torch.no_grad():\n",
        "    n_correct = 0\n",
        "    n_samples = 0\n",
        "    n_class_correct = [0 for i in range(10)]\n",
        "    n_class_samples = [0 for i in range(10)]\n",
        "    for images, labels in test_loader:\n",
        "        images = images.to(device)\n",
        "        labels = labels.to(device)\n",
        "        outputs = model(images)\n",
        "        # max returns (value ,index)\n",
        "        _, predicted = torch.max(outputs, 1)\n",
        "        n_samples += labels.size(0)\n",
        "        n_correct += (predicted == labels).sum().item()\n",
        "        \n",
        "        for i in range(batch_size):\n",
        "            label = labels[i]\n",
        "            pred = predicted[i]\n",
        "            if (label == pred):\n",
        "                n_class_correct[label] += 1\n",
        "            n_class_samples[label] += 1\n",
        "\n",
        "    acc = 100.0 * n_correct / n_samples\n",
        "    print(f'Accuracy of the network: {acc} %')\n",
        "\n",
        "    for i in range(10):\n",
        "        acc = 100.0 * n_class_correct[i] / n_class_samples[i]\n",
        "        print(f'Accuracy of {classes[i]}: {acc} %')"
      ],
      "metadata": {
        "colab": {
          "base_uri": "https://localhost:8080/"
        },
        "id": "LoHLXeI5suxp",
        "outputId": "656ad332-b088-4d68-e34e-8f0a169ecb74"
      },
      "execution_count": null,
      "outputs": [
        {
          "output_type": "stream",
          "name": "stdout",
          "text": [
            "Accuracy of the network: 56.09 %\n",
            "Accuracy of biden: 69.6 %\n",
            "Accuracy of inittogether: 63.1 %\n",
            "Accuracy of dems: 32.7 %\n",
            "Accuracy of \tpaycheckprotectionprogram: 28.9 %\n",
            "Accuracy of obama: 60.3 %\n",
            "Accuracy of congress: 52.9 %\n",
            "Accuracy of latinx: 65.7 %\n",
            "Accuracy of wellfare: 70.7 %\n",
            "Accuracy of diversity: 54.7 %\n",
            "Accuracy of lgbtq: 62.3 %\n"
          ]
        }
      ]
    },
    {
      "cell_type": "markdown",
      "source": [
        "# **Task 2: RNN & LSTM sequential network**"
      ],
      "metadata": {
        "id": "mqHY-giIzfIc"
      }
    },
    {
      "cell_type": "markdown",
      "source": [
        "For the RNN & LSTM task we will be using Tesla stock data as the data from which we will be basing the assignment onto. For that we will first import the .csv file from our github repo, and run a .head() to check the dataframe"
      ],
      "metadata": {
        "id": "btLYcvn5ZtL6"
      }
    },
    {
      "cell_type": "code",
      "source": [
        "import numpy as np\n",
        "import pandas as pd\n",
        "import matplotlib.pyplot as plt\n",
        "\n",
        "df = pd.read_csv('/content/M4-Deep-learning-portfolio/Tesla New.csv', index_col = 'Date', parse_dates=True)"
      ],
      "metadata": {
        "id": "kKYPPfcI0QUB"
      },
      "execution_count": null,
      "outputs": []
    },
    {
      "cell_type": "code",
      "source": [
        "df.head()"
      ],
      "metadata": {
        "colab": {
          "base_uri": "https://localhost:8080/",
          "height": 237
        },
        "id": "tDgy3FD_0a-Q",
        "outputId": "f1ce1d08-b03c-4d0f-c372-2b74e5331457"
      },
      "execution_count": null,
      "outputs": [
        {
          "output_type": "execute_result",
          "data": {
            "text/plain": [
              "                  Open        High         Low       Close   Adj Close  \\\n",
              "Date                                                                     \n",
              "2015-01-02  222.869995  223.250000  213.259995  219.309998  219.309998   \n",
              "2015-01-05  214.550003  216.500000  207.160004  210.089996  210.089996   \n",
              "2015-01-06  210.059998  214.199997  204.210007  211.279999  211.279999   \n",
              "2015-01-07  213.350006  214.779999  209.779999  210.949997  210.949997   \n",
              "2015-01-08  212.809998  213.800003  210.009995  210.619995  210.619995   \n",
              "\n",
              "             Volume  \n",
              "Date                 \n",
              "2015-01-02  4764400  \n",
              "2015-01-05  5368500  \n",
              "2015-01-06  6261900  \n",
              "2015-01-07  2968400  \n",
              "2015-01-08  3442500  "
            ],
            "text/html": [
              "\n",
              "  <div id=\"df-611840e0-5168-497a-b0fb-e9eb852b8a94\">\n",
              "    <div class=\"colab-df-container\">\n",
              "      <div>\n",
              "<style scoped>\n",
              "    .dataframe tbody tr th:only-of-type {\n",
              "        vertical-align: middle;\n",
              "    }\n",
              "\n",
              "    .dataframe tbody tr th {\n",
              "        vertical-align: top;\n",
              "    }\n",
              "\n",
              "    .dataframe thead th {\n",
              "        text-align: right;\n",
              "    }\n",
              "</style>\n",
              "<table border=\"1\" class=\"dataframe\">\n",
              "  <thead>\n",
              "    <tr style=\"text-align: right;\">\n",
              "      <th></th>\n",
              "      <th>Open</th>\n",
              "      <th>High</th>\n",
              "      <th>Low</th>\n",
              "      <th>Close</th>\n",
              "      <th>Adj Close</th>\n",
              "      <th>Volume</th>\n",
              "    </tr>\n",
              "    <tr>\n",
              "      <th>Date</th>\n",
              "      <th></th>\n",
              "      <th></th>\n",
              "      <th></th>\n",
              "      <th></th>\n",
              "      <th></th>\n",
              "      <th></th>\n",
              "    </tr>\n",
              "  </thead>\n",
              "  <tbody>\n",
              "    <tr>\n",
              "      <th>2015-01-02</th>\n",
              "      <td>222.869995</td>\n",
              "      <td>223.250000</td>\n",
              "      <td>213.259995</td>\n",
              "      <td>219.309998</td>\n",
              "      <td>219.309998</td>\n",
              "      <td>4764400</td>\n",
              "    </tr>\n",
              "    <tr>\n",
              "      <th>2015-01-05</th>\n",
              "      <td>214.550003</td>\n",
              "      <td>216.500000</td>\n",
              "      <td>207.160004</td>\n",
              "      <td>210.089996</td>\n",
              "      <td>210.089996</td>\n",
              "      <td>5368500</td>\n",
              "    </tr>\n",
              "    <tr>\n",
              "      <th>2015-01-06</th>\n",
              "      <td>210.059998</td>\n",
              "      <td>214.199997</td>\n",
              "      <td>204.210007</td>\n",
              "      <td>211.279999</td>\n",
              "      <td>211.279999</td>\n",
              "      <td>6261900</td>\n",
              "    </tr>\n",
              "    <tr>\n",
              "      <th>2015-01-07</th>\n",
              "      <td>213.350006</td>\n",
              "      <td>214.779999</td>\n",
              "      <td>209.779999</td>\n",
              "      <td>210.949997</td>\n",
              "      <td>210.949997</td>\n",
              "      <td>2968400</td>\n",
              "    </tr>\n",
              "    <tr>\n",
              "      <th>2015-01-08</th>\n",
              "      <td>212.809998</td>\n",
              "      <td>213.800003</td>\n",
              "      <td>210.009995</td>\n",
              "      <td>210.619995</td>\n",
              "      <td>210.619995</td>\n",
              "      <td>3442500</td>\n",
              "    </tr>\n",
              "  </tbody>\n",
              "</table>\n",
              "</div>\n",
              "      <button class=\"colab-df-convert\" onclick=\"convertToInteractive('df-611840e0-5168-497a-b0fb-e9eb852b8a94')\"\n",
              "              title=\"Convert this dataframe to an interactive table.\"\n",
              "              style=\"display:none;\">\n",
              "        \n",
              "  <svg xmlns=\"http://www.w3.org/2000/svg\" height=\"24px\"viewBox=\"0 0 24 24\"\n",
              "       width=\"24px\">\n",
              "    <path d=\"M0 0h24v24H0V0z\" fill=\"none\"/>\n",
              "    <path d=\"M18.56 5.44l.94 2.06.94-2.06 2.06-.94-2.06-.94-.94-2.06-.94 2.06-2.06.94zm-11 1L8.5 8.5l.94-2.06 2.06-.94-2.06-.94L8.5 2.5l-.94 2.06-2.06.94zm10 10l.94 2.06.94-2.06 2.06-.94-2.06-.94-.94-2.06-.94 2.06-2.06.94z\"/><path d=\"M17.41 7.96l-1.37-1.37c-.4-.4-.92-.59-1.43-.59-.52 0-1.04.2-1.43.59L10.3 9.45l-7.72 7.72c-.78.78-.78 2.05 0 2.83L4 21.41c.39.39.9.59 1.41.59.51 0 1.02-.2 1.41-.59l7.78-7.78 2.81-2.81c.8-.78.8-2.07 0-2.86zM5.41 20L4 18.59l7.72-7.72 1.47 1.35L5.41 20z\"/>\n",
              "  </svg>\n",
              "      </button>\n",
              "      \n",
              "  <style>\n",
              "    .colab-df-container {\n",
              "      display:flex;\n",
              "      flex-wrap:wrap;\n",
              "      gap: 12px;\n",
              "    }\n",
              "\n",
              "    .colab-df-convert {\n",
              "      background-color: #E8F0FE;\n",
              "      border: none;\n",
              "      border-radius: 50%;\n",
              "      cursor: pointer;\n",
              "      display: none;\n",
              "      fill: #1967D2;\n",
              "      height: 32px;\n",
              "      padding: 0 0 0 0;\n",
              "      width: 32px;\n",
              "    }\n",
              "\n",
              "    .colab-df-convert:hover {\n",
              "      background-color: #E2EBFA;\n",
              "      box-shadow: 0px 1px 2px rgba(60, 64, 67, 0.3), 0px 1px 3px 1px rgba(60, 64, 67, 0.15);\n",
              "      fill: #174EA6;\n",
              "    }\n",
              "\n",
              "    [theme=dark] .colab-df-convert {\n",
              "      background-color: #3B4455;\n",
              "      fill: #D2E3FC;\n",
              "    }\n",
              "\n",
              "    [theme=dark] .colab-df-convert:hover {\n",
              "      background-color: #434B5C;\n",
              "      box-shadow: 0px 1px 3px 1px rgba(0, 0, 0, 0.15);\n",
              "      filter: drop-shadow(0px 1px 2px rgba(0, 0, 0, 0.3));\n",
              "      fill: #FFFFFF;\n",
              "    }\n",
              "  </style>\n",
              "\n",
              "      <script>\n",
              "        const buttonEl =\n",
              "          document.querySelector('#df-611840e0-5168-497a-b0fb-e9eb852b8a94 button.colab-df-convert');\n",
              "        buttonEl.style.display =\n",
              "          google.colab.kernel.accessAllowed ? 'block' : 'none';\n",
              "\n",
              "        async function convertToInteractive(key) {\n",
              "          const element = document.querySelector('#df-611840e0-5168-497a-b0fb-e9eb852b8a94');\n",
              "          const dataTable =\n",
              "            await google.colab.kernel.invokeFunction('convertToInteractive',\n",
              "                                                     [key], {});\n",
              "          if (!dataTable) return;\n",
              "\n",
              "          const docLinkHtml = 'Like what you see? Visit the ' +\n",
              "            '<a target=\"_blank\" href=https://colab.research.google.com/notebooks/data_table.ipynb>data table notebook</a>'\n",
              "            + ' to learn more about interactive tables.';\n",
              "          element.innerHTML = '';\n",
              "          dataTable['output_type'] = 'display_data';\n",
              "          await google.colab.output.renderOutput(dataTable, element);\n",
              "          const docLink = document.createElement('div');\n",
              "          docLink.innerHTML = docLinkHtml;\n",
              "          element.appendChild(docLink);\n",
              "        }\n",
              "      </script>\n",
              "    </div>\n",
              "  </div>\n",
              "  "
            ]
          },
          "metadata": {},
          "execution_count": 46
        }
      ]
    },
    {
      "cell_type": "code",
      "source": [
        "df.shape"
      ],
      "metadata": {
        "id": "QmtSkPGg7-4D",
        "colab": {
          "base_uri": "https://localhost:8080/"
        },
        "outputId": "038d7d9b-a577-4536-b193-d5865221a5cf"
      },
      "execution_count": null,
      "outputs": [
        {
          "output_type": "execute_result",
          "data": {
            "text/plain": [
              "(556, 6)"
            ]
          },
          "metadata": {},
          "execution_count": 47
        }
      ]
    },
    {
      "cell_type": "code",
      "source": [
        "plt.style.use('ggplot')\n",
        "df['Volume'].plot(label='CLOSE', title='Tesla Stock Volume')"
      ],
      "metadata": {
        "id": "Zgkd8oTy0gAh",
        "colab": {
          "base_uri": "https://localhost:8080/",
          "height": 315
        },
        "outputId": "05cea9ad-2078-488d-c9c1-de0fe5393a21"
      },
      "execution_count": null,
      "outputs": [
        {
          "output_type": "execute_result",
          "data": {
            "text/plain": [
              "<matplotlib.axes._subplots.AxesSubplot at 0x7f9f1bf35880>"
            ]
          },
          "metadata": {},
          "execution_count": 48
        },
        {
          "output_type": "display_data",
          "data": {
            "text/plain": [
              "<Figure size 432x288 with 1 Axes>"
            ],
            "image/png": "[encoded data removed]"
          },
          "metadata": {}
        }
      ]
    },
    {
      "cell_type": "markdown",
      "source": [
        "As seen above, the data shows the stock volume over the period of 2015-2017, however we will be selecting the variables \"Date\" and \"Volume\" as the train/test features to work on."
      ],
      "metadata": {
        "id": "I-Jk0ZJZ1m0n"
      }
    },
    {
      "cell_type": "code",
      "source": [
        "X = df.iloc[:, :-1]\n",
        "y = df.iloc[:, 5:6] "
      ],
      "metadata": {
        "id": "6V1I6nry0f88"
      },
      "execution_count": null,
      "outputs": []
    },
    {
      "cell_type": "code",
      "source": [
        "y"
      ],
      "metadata": {
        "id": "-ciMqdbr0f5F",
        "colab": {
          "base_uri": "https://localhost:8080/",
          "height": 455
        },
        "outputId": "67754146-0b0e-4c5e-8279-e49e001ac75c"
      },
      "execution_count": null,
      "outputs": [
        {
          "output_type": "execute_result",
          "data": {
            "text/plain": [
              "             Volume\n",
              "Date               \n",
              "2015-01-02  4764400\n",
              "2015-01-05  5368500\n",
              "2015-01-06  6261900\n",
              "2015-01-07  2968400\n",
              "2015-01-08  3442500\n",
              "...             ...\n",
              "2017-03-13  3010700\n",
              "2017-03-14  7575500\n",
              "2017-03-15  4816600\n",
              "2017-03-16  7100400\n",
              "2017-03-17  6475900\n",
              "\n",
              "[556 rows x 1 columns]"
            ],
            "text/html": [
              "\n",
              "  <div id=\"df-50b3c9eb-fcc4-49f6-9342-605f7084a92e\">\n",
              "    <div class=\"colab-df-container\">\n",
              "      <div>\n",
              "<style scoped>\n",
              "    .dataframe tbody tr th:only-of-type {\n",
              "        vertical-align: middle;\n",
              "    }\n",
              "\n",
              "    .dataframe tbody tr th {\n",
              "        vertical-align: top;\n",
              "    }\n",
              "\n",
              "    .dataframe thead th {\n",
              "        text-align: right;\n",
              "    }\n",
              "</style>\n",
              "<table border=\"1\" class=\"dataframe\">\n",
              "  <thead>\n",
              "    <tr style=\"text-align: right;\">\n",
              "      <th></th>\n",
              "      <th>Volume</th>\n",
              "    </tr>\n",
              "    <tr>\n",
              "      <th>Date</th>\n",
              "      <th></th>\n",
              "    </tr>\n",
              "  </thead>\n",
              "  <tbody>\n",
              "    <tr>\n",
              "      <th>2015-01-02</th>\n",
              "      <td>4764400</td>\n",
              "    </tr>\n",
              "    <tr>\n",
              "      <th>2015-01-05</th>\n",
              "      <td>5368500</td>\n",
              "    </tr>\n",
              "    <tr>\n",
              "      <th>2015-01-06</th>\n",
              "      <td>6261900</td>\n",
              "    </tr>\n",
              "    <tr>\n",
              "      <th>2015-01-07</th>\n",
              "      <td>2968400</td>\n",
              "    </tr>\n",
              "    <tr>\n",
              "      <th>2015-01-08</th>\n",
              "      <td>3442500</td>\n",
              "    </tr>\n",
              "    <tr>\n",
              "      <th>...</th>\n",
              "      <td>...</td>\n",
              "    </tr>\n",
              "    <tr>\n",
              "      <th>2017-03-13</th>\n",
              "      <td>3010700</td>\n",
              "    </tr>\n",
              "    <tr>\n",
              "      <th>2017-03-14</th>\n",
              "      <td>7575500</td>\n",
              "    </tr>\n",
              "    <tr>\n",
              "      <th>2017-03-15</th>\n",
              "      <td>4816600</td>\n",
              "    </tr>\n",
              "    <tr>\n",
              "      <th>2017-03-16</th>\n",
              "      <td>7100400</td>\n",
              "    </tr>\n",
              "    <tr>\n",
              "      <th>2017-03-17</th>\n",
              "      <td>6475900</td>\n",
              "    </tr>\n",
              "  </tbody>\n",
              "</table>\n",
              "<p>556 rows × 1 columns</p>\n",
              "</div>\n",
              "      <button class=\"colab-df-convert\" onclick=\"convertToInteractive('df-50b3c9eb-fcc4-49f6-9342-605f7084a92e')\"\n",
              "              title=\"Convert this dataframe to an interactive table.\"\n",
              "              style=\"display:none;\">\n",
              "        \n",
              "  <svg xmlns=\"http://www.w3.org/2000/svg\" height=\"24px\"viewBox=\"0 0 24 24\"\n",
              "       width=\"24px\">\n",
              "    <path d=\"M0 0h24v24H0V0z\" fill=\"none\"/>\n",
              "    <path d=\"M18.56 5.44l.94 2.06.94-2.06 2.06-.94-2.06-.94-.94-2.06-.94 2.06-2.06.94zm-11 1L8.5 8.5l.94-2.06 2.06-.94-2.06-.94L8.5 2.5l-.94 2.06-2.06.94zm10 10l.94 2.06.94-2.06 2.06-.94-2.06-.94-.94-2.06-.94 2.06-2.06.94z\"/><path d=\"M17.41 7.96l-1.37-1.37c-.4-.4-.92-.59-1.43-.59-.52 0-1.04.2-1.43.59L10.3 9.45l-7.72 7.72c-.78.78-.78 2.05 0 2.83L4 21.41c.39.39.9.59 1.41.59.51 0 1.02-.2 1.41-.59l7.78-7.78 2.81-2.81c.8-.78.8-2.07 0-2.86zM5.41 20L4 18.59l7.72-7.72 1.47 1.35L5.41 20z\"/>\n",
              "  </svg>\n",
              "      </button>\n",
              "      \n",
              "  <style>\n",
              "    .colab-df-container {\n",
              "      display:flex;\n",
              "      flex-wrap:wrap;\n",
              "      gap: 12px;\n",
              "    }\n",
              "\n",
              "    .colab-df-convert {\n",
              "      background-color: #E8F0FE;\n",
              "      border: none;\n",
              "      border-radius: 50%;\n",
              "      cursor: pointer;\n",
              "      display: none;\n",
              "      fill: #1967D2;\n",
              "      height: 32px;\n",
              "      padding: 0 0 0 0;\n",
              "      width: 32px;\n",
              "    }\n",
              "\n",
              "    .colab-df-convert:hover {\n",
              "      background-color: #E2EBFA;\n",
              "      box-shadow: 0px 1px 2px rgba(60, 64, 67, 0.3), 0px 1px 3px 1px rgba(60, 64, 67, 0.15);\n",
              "      fill: #174EA6;\n",
              "    }\n",
              "\n",
              "    [theme=dark] .colab-df-convert {\n",
              "      background-color: #3B4455;\n",
              "      fill: #D2E3FC;\n",
              "    }\n",
              "\n",
              "    [theme=dark] .colab-df-convert:hover {\n",
              "      background-color: #434B5C;\n",
              "      box-shadow: 0px 1px 3px 1px rgba(0, 0, 0, 0.15);\n",
              "      filter: drop-shadow(0px 1px 2px rgba(0, 0, 0, 0.3));\n",
              "      fill: #FFFFFF;\n",
              "    }\n",
              "  </style>\n",
              "\n",
              "      <script>\n",
              "        const buttonEl =\n",
              "          document.querySelector('#df-50b3c9eb-fcc4-49f6-9342-605f7084a92e button.colab-df-convert');\n",
              "        buttonEl.style.display =\n",
              "          google.colab.kernel.accessAllowed ? 'block' : 'none';\n",
              "\n",
              "        async function convertToInteractive(key) {\n",
              "          const element = document.querySelector('#df-50b3c9eb-fcc4-49f6-9342-605f7084a92e');\n",
              "          const dataTable =\n",
              "            await google.colab.kernel.invokeFunction('convertToInteractive',\n",
              "                                                     [key], {});\n",
              "          if (!dataTable) return;\n",
              "\n",
              "          const docLinkHtml = 'Like what you see? Visit the ' +\n",
              "            '<a target=\"_blank\" href=https://colab.research.google.com/notebooks/data_table.ipynb>data table notebook</a>'\n",
              "            + ' to learn more about interactive tables.';\n",
              "          element.innerHTML = '';\n",
              "          dataTable['output_type'] = 'display_data';\n",
              "          await google.colab.output.renderOutput(dataTable, element);\n",
              "          const docLink = document.createElement('div');\n",
              "          docLink.innerHTML = docLinkHtml;\n",
              "          element.appendChild(docLink);\n",
              "        }\n",
              "      </script>\n",
              "    </div>\n",
              "  </div>\n",
              "  "
            ]
          },
          "metadata": {},
          "execution_count": 50
        }
      ]
    },
    {
      "cell_type": "markdown",
      "source": [
        "Before we go ahead and setup the X/Y train/test groups, we will fist using a scaler to fit.transform it"
      ],
      "metadata": {
        "id": "JJcLagdu18HO"
      }
    },
    {
      "cell_type": "code",
      "source": [
        "from sklearn.preprocessing import StandardScaler, MinMaxScaler\n",
        "mm = MinMaxScaler()\n",
        "ss = StandardScaler()\n",
        "\n",
        "\n",
        "X_ss = ss.fit_transform(X)\n",
        "y_mm = mm.fit_transform(y) "
      ],
      "metadata": {
        "id": "aaLlF6ps0wnG"
      },
      "execution_count": null,
      "outputs": []
    },
    {
      "cell_type": "code",
      "source": [
        "#first 420 for training\n",
        "\n",
        "X_train = X_ss[:420, :]\n",
        "X_test = X_ss[420:, :]\n",
        "\n",
        "y_train = y_mm[:420, :]\n",
        "y_test = y_mm[420:, :] "
      ],
      "metadata": {
        "id": "k8W4vzz60wiw"
      },
      "execution_count": null,
      "outputs": []
    },
    {
      "cell_type": "markdown",
      "source": [
        "And now we will print the testing and training size to see if the 80/20 ratio has been selected."
      ],
      "metadata": {
        "id": "Zv33s-i22FWH"
      }
    },
    {
      "cell_type": "code",
      "source": [
        "print(\"Training Shape\", X_train.shape, y_train.shape)\n",
        "print(\"Testing Shape\", X_test.shape, y_test.shape) "
      ],
      "metadata": {
        "id": "PPgxlbB20wfE",
        "colab": {
          "base_uri": "https://localhost:8080/"
        },
        "outputId": "a43050af-6191-48bb-bab0-5ebb29fce5cd"
      },
      "execution_count": null,
      "outputs": [
        {
          "output_type": "stream",
          "name": "stdout",
          "text": [
            "Training Shape (420, 5) (420, 1)\n",
            "Testing Shape (136, 5) (136, 1)\n"
          ]
        }
      ]
    },
    {
      "cell_type": "code",
      "source": [
        "# import required libraries\n",
        "import torch\n",
        "import pandas as pd\n",
        "import torch.nn as nn\n",
        "import torch.optim as optim\n",
        "import numpy as np\n",
        "from torch.utils.data import DataLoader, TensorDataset\n",
        "from sklearn.preprocessing import MinMaxScaler\n",
        "import matplotlib.pyplot as plt"
      ],
      "metadata": {
        "id": "0BoJKwrC60fu"
      },
      "execution_count": null,
      "outputs": []
    },
    {
      "cell_type": "code",
      "source": [
        "# Split the data into training and testing sets\n",
        "train_data = TensorDataset(torch.from_numpy(X_train), torch.from_numpy(y_train))\n",
        "test_data = TensorDataset(torch.from_numpy(X_test), torch.from_numpy(y_test))\n",
        "\n",
        "train_loader = DataLoader(train_data, batch_size=1, shuffle=True)\n",
        "test_loader = DataLoader(test_data, batch_size=1, shuffle=False)"
      ],
      "metadata": {
        "id": "ecilxuWywxEL"
      },
      "execution_count": null,
      "outputs": []
    },
    {
      "cell_type": "markdown",
      "source": [
        "With everything in order, we will now move on to performing the first run of the LSTM model with the inputs being 5, hidden layer size being 16, and output size being 1."
      ],
      "metadata": {
        "id": "v7Q0FXwq_9Eb"
      }
    },
    {
      "cell_type": "code",
      "source": [
        "# Initialize the LSTM model\n",
        "# Define the input size, hidden size and number of outputs\n",
        "input_size = 5\n",
        "hidden_size = 16\n",
        "output_size = 1\n",
        "num_epochs= 10\n",
        "\n",
        "# Define the LSTM model and Linear output fully connected layer\n",
        "lstm = nn.LSTM(input_size, hidden_size, batch_first=True)\n",
        "fc = nn.Linear(hidden_size, output_size)\n",
        "\n",
        "# Define the loss function and optimizer\n",
        "criterion = nn.MSELoss()\n",
        "optimizer = optim.SGD(lstm.parameters(), lr=0.01)"
      ],
      "metadata": {
        "id": "3wO5usRFvvYt"
      },
      "execution_count": null,
      "outputs": []
    },
    {
      "cell_type": "code",
      "source": [
        "# Initializing Hyperparameters\n",
        "num_epochs = 1000\n",
        "train_losses = []\n",
        "test_losses = []\n",
        "\n",
        "# Loop over the number of epochs\n",
        "for epoch in range(num_epochs):\n",
        "    train_loss = 0\n",
        "    # Get the input and target at position i\n",
        "    for i, (data, label) in enumerate(train_loader):\n",
        "        \n",
        "        # Initialize the hidden state and the cell state\n",
        "        # The hidden state and the cell state reset to zero for every epoch\n",
        "        hidden = (torch.zeros(data.size(0), hidden_size),\n",
        "                  torch.zeros(data.size(0), hidden_size))\n",
        "\n",
        "        # Run the forward pass\n",
        "        output, hidden = lstm(data.float(), hidden)\n",
        "        output = fc(hidden[-1])\n",
        "\n",
        "        # 2. Network Evaluation\n",
        "        loss = criterion(output, label.float())\n",
        "\n",
        "        # 3. Gradient Calculation\n",
        "        loss.backward()\n",
        "\n",
        "        # 4. Back Propagation\n",
        "        optimizer.step()\n",
        "        optimizer.zero_grad()\n",
        "\n",
        "        train_loss += loss.item()\n",
        "\n",
        "    # Calculate the average training loss\n",
        "    train_loss = train_loss / len(train_loader)\n",
        "    train_losses.append(train_loss)\n",
        "\n",
        "# Plot the MSE loss for each epoch\n",
        "plt.plot(train_losses)\n",
        "plt.xlabel('Epoch')\n",
        "plt.ylabel('MSE Loss')\n",
        "plt.title('Training Loss over Epochs')\n",
        "plt.show()"
      ],
      "metadata": {
        "id": "W_MHGlZqd0ql",
        "colab": {
          "base_uri": "https://localhost:8080/",
          "height": 299
        },
        "outputId": "8116462d-2732-4a25-f898-238dc6e9e7f8"
      },
      "execution_count": null,
      "outputs": [
        {
          "output_type": "display_data",
          "data": {
            "text/plain": [
              "<Figure size 432x288 with 1 Axes>"
            ],
            "image/png": "[encoded data removed]"
          },
          "metadata": {}
        }
      ]
    },
    {
      "cell_type": "code",
      "source": [
        "# Evaluate the LSTM model\n",
        "mse = 0\n",
        "\n",
        "#By wrapping the evaluation code in a with torch.no_grad() context, \n",
        "#you can avoid unnecessary memory usage and speed up the evaluation process.\n",
        "with torch.no_grad():\n",
        "    for data, label in test_loader:\n",
        "        hidden = (torch.zeros(data.size(0), hidden_size),\n",
        "                  torch.zeros(data.size(0), hidden_size))\n",
        "        output, hidden = lstm(data.float(), hidden)\n",
        "        output = fc(hidden[-1])\n",
        "\n",
        "        mse += ((output - label)**2).mean().item()\n",
        "\n",
        "mse /= len(test_loader)\n",
        "print('Test MSE: {}'.format(mse))"
      ],
      "metadata": {
        "id": "2FVql-KEbdWI",
        "colab": {
          "base_uri": "https://localhost:8080/"
        },
        "outputId": "9a2464db-130a-4ac2-997c-1db777298570"
      },
      "execution_count": null,
      "outputs": [
        {
          "output_type": "stream",
          "name": "stdout",
          "text": [
            "Test MSE: 0.00702314528987687\n"
          ]
        }
      ]
    },
    {
      "cell_type": "code",
      "source": [
        "output_list = []\n",
        "for i, (data, label) in enumerate(test_loader):\n",
        "        \n",
        "    # Initialize the hidden state and the cell state\n",
        "    # The hidden state and the cell state reset to zero for every epoch\n",
        "    hidden = (torch.zeros(data.size(0), hidden_size),\n",
        "                  torch.zeros(data.size(0), hidden_size))\n",
        "\n",
        "    # Run the forward pass\n",
        "    output, hidden = lstm(data.float(), hidden)\n",
        "    output = fc(hidden[-1])\n",
        "    output_list.append(output.detach().numpy()[0][0])\n",
        "    \n",
        "for i, (data, label) in enumerate(train_loader):\n",
        "        \n",
        "    # Initialize the hidden state and the cell state\n",
        "    # The hidden state and the cell state reset to zero for every epoch\n",
        "    hidden = (torch.zeros(data.size(0), hidden_size),\n",
        "                  torch.zeros(data.size(0), hidden_size))\n",
        "\n",
        "    # Run the forward pass\n",
        "    output, hidden = lstm(data.float(), hidden)\n",
        "    output = fc(hidden[-1])\n",
        "    output_list.append(output.detach().numpy()[0][0])"
      ],
      "metadata": {
        "id": "nT1TUxan-k2V"
      },
      "execution_count": null,
      "outputs": []
    },
    {
      "cell_type": "code",
      "source": [
        "# train_predict = lstm(X_ss)#forward pass\n",
        "# data_predict = train_predict.data.numpy() #numpy conversion\n",
        "dataY_plot = y.Volume.values\n",
        "# data_predict = output_list\n",
        "\n",
        "data_predict = mm.inverse_transform([output_list]) #reverse transformation\n",
        "# dataY_plot = mm.inverse_transform(dataY_plot)\n",
        "plt.figure(figsize=(10,6)) #plotting\n",
        "plt.axvline(x=200, c='r', linestyle='--') #size of the training set\n",
        "\n",
        "plt.plot(dataY_plot, label='Actual Data') #actual plot\n",
        "plt.plot(data_predict[0], label='Predicted Data') #predicted plot\n",
        "plt.title('Time-Series Prediction')\n",
        "plt.legend()\n",
        "plt.show() "
      ],
      "metadata": {
        "id": "GBH-eiAG8jlp",
        "colab": {
          "base_uri": "https://localhost:8080/",
          "height": 391
        },
        "outputId": "f381dce4-8c49-4556-ad4e-c1b77a0c23b3"
      },
      "execution_count": null,
      "outputs": [
        {
          "output_type": "display_data",
          "data": {
            "text/plain": [
              "<Figure size 720x432 with 1 Axes>"
            ],
            "image/png": "[encoded data removed]"
          },
          "metadata": {}
        }
      ]
    },
    {
      "cell_type": "code",
      "source": [
        "# Save the trained RNN model\n",
        "torch.save(lstm.state_dict(), 'lstm.pt')\n",
        "\n",
        "# Load the model\n",
        "rnn = nn.LSTM(input_size, hidden_size, batch_first=True)\n",
        "rnn.load_state_dict(torch.load('lstm.pt'))"
      ],
      "metadata": {
        "id": "zK9FCJeRbfRI",
        "colab": {
          "base_uri": "https://localhost:8080/"
        },
        "outputId": "5d7971b5-3862-4d59-be14-d7d658982a62"
      },
      "execution_count": null,
      "outputs": [
        {
          "output_type": "execute_result",
          "data": {
            "text/plain": [
              "<All keys matched successfully>"
            ]
          },
          "metadata": {},
          "execution_count": 61
        }
      ]
    },
    {
      "cell_type": "markdown",
      "source": [
        "The the second run of the LSTM model, we decided to set the output size to 3, and we increased the epoch size from 10, to 50, to see if it has a positive effect on the MSE score"
      ],
      "metadata": {
        "id": "TZ9XVtfBAD9t"
      }
    },
    {
      "cell_type": "code",
      "source": [
        "# Initialize the LSTM model\n",
        "# Define the input size, hidden size and number of outputs\n",
        "input_size = 5\n",
        "hidden_size = 16\n",
        "output_size = 3\n",
        "num_epochs= 50\n",
        "\n",
        "# Define the LSTM model and Linear output fully connected layer\n",
        "lstm = nn.LSTM(input_size, hidden_size, batch_first=True)\n",
        "fc = nn.Linear(hidden_size, output_size)\n",
        "\n",
        "# Define the loss function and optimizer\n",
        "criterion = nn.MSELoss()\n",
        "optimizer = optim.SGD(lstm.parameters(), lr=0.01)"
      ],
      "metadata": {
        "id": "TnqsOsoGAD9t"
      },
      "execution_count": null,
      "outputs": []
    },
    {
      "cell_type": "code",
      "source": [
        "# Initializing Hyperparameters\n",
        "num_epochs = 1000\n",
        "train_losses = []\n",
        "test_losses = []\n",
        "\n",
        "# Loop over the number of epochs\n",
        "for epoch in range(num_epochs):\n",
        "    train_loss = 0\n",
        "    # Get the input and target at position i\n",
        "    for i, (data, label) in enumerate(train_loader):\n",
        "        \n",
        "        # Initialize the hidden state and the cell state\n",
        "        # The hidden state and the cell state reset to zero for every epoch\n",
        "        hidden = (torch.zeros(data.size(0), hidden_size),\n",
        "                  torch.zeros(data.size(0), hidden_size))\n",
        "\n",
        "        # Run the forward pass\n",
        "        output, hidden = lstm(data.float(), hidden)\n",
        "        output = fc(hidden[-1])\n",
        "\n",
        "        # 2. Network Evaluation\n",
        "        loss = criterion(output, label.float())\n",
        "\n",
        "        # 3. Gradient Calculation\n",
        "        loss.backward()\n",
        "\n",
        "        # 4. Back Propagation\n",
        "        optimizer.step()\n",
        "        optimizer.zero_grad()\n",
        "\n",
        "        train_loss += loss.item()\n",
        "\n",
        "    # Calculate the average training loss\n",
        "    train_loss = train_loss / len(train_loader)\n",
        "    train_losses.append(train_loss)\n",
        "\n",
        "# Plot the MSE loss for each epoch\n",
        "plt.plot(train_losses)\n",
        "plt.xlabel('Epoch')\n",
        "plt.ylabel('MSE Loss')\n",
        "plt.title('Training Loss over Epochs')\n",
        "plt.show()"
      ],
      "metadata": {
        "id": "zkrl_kfDAD9u",
        "colab": {
          "base_uri": "https://localhost:8080/",
          "height": 355
        },
        "outputId": "eb4e84b5-a09a-4636-beeb-d3eddc3a871d"
      },
      "execution_count": null,
      "outputs": [
        {
          "output_type": "stream",
          "name": "stderr",
          "text": [
            "/usr/local/lib/python3.8/dist-packages/torch/nn/modules/loss.py:536: UserWarning: Using a target size (torch.Size([1, 1])) that is different to the input size (torch.Size([1, 3])). This will likely lead to incorrect results due to broadcasting. Please ensure they have the same size.\n",
            "  return F.mse_loss(input, target, reduction=self.reduction)\n"
          ]
        },
        {
          "output_type": "display_data",
          "data": {
            "text/plain": [
              "<Figure size 432x288 with 1 Axes>"
            ],
            "image/png": "[encoded data removed]"
          },
          "metadata": {}
        }
      ]
    },
    {
      "cell_type": "code",
      "source": [
        "# Evaluate the LSTM model\n",
        "mse = 0\n",
        "\n",
        "#By wrapping the evaluation code in a with torch.no_grad() context, \n",
        "#you can avoid unnecessary memory usage and speed up the evaluation process.\n",
        "with torch.no_grad():\n",
        "    for data, label in test_loader:\n",
        "        hidden = (torch.zeros(data.size(0), hidden_size),\n",
        "                  torch.zeros(data.size(0), hidden_size))\n",
        "        output, hidden = lstm(data.float(), hidden)\n",
        "        output = fc(hidden[-1])\n",
        "\n",
        "        mse += ((output - label)**2).mean().item()\n",
        "\n",
        "mse /= len(test_loader)\n",
        "print('Test MSE: {}'.format(mse))"
      ],
      "metadata": {
        "id": "IKu68BSoAD9u",
        "colab": {
          "base_uri": "https://localhost:8080/"
        },
        "outputId": "0cfacecc-5e5f-48d1-a587-0239f55c21af"
      },
      "execution_count": null,
      "outputs": [
        {
          "output_type": "stream",
          "name": "stdout",
          "text": [
            "Test MSE: 0.0067035122723343495\n"
          ]
        }
      ]
    },
    {
      "cell_type": "code",
      "source": [
        "output_list = []\n",
        "for i, (data, label) in enumerate(test_loader):\n",
        "        \n",
        "    # Initialize the hidden state and the cell state\n",
        "    # The hidden state and the cell state reset to zero for every epoch\n",
        "    hidden = (torch.zeros(data.size(0), hidden_size),\n",
        "                  torch.zeros(data.size(0), hidden_size))\n",
        "\n",
        "    # Run the forward pass\n",
        "    output, hidden = lstm(data.float(), hidden)\n",
        "    output = fc(hidden[-1])\n",
        "    output_list.append(output.detach().numpy()[0][0])\n",
        "    \n",
        "for i, (data, label) in enumerate(train_loader):\n",
        "        \n",
        "    # Initialize the hidden state and the cell state\n",
        "    # The hidden state and the cell state reset to zero for every epoch\n",
        "    hidden = (torch.zeros(data.size(0), hidden_size),\n",
        "                  torch.zeros(data.size(0), hidden_size))\n",
        "\n",
        "    # Run the forward pass\n",
        "    output, hidden = lstm(data.float(), hidden)\n",
        "    output = fc(hidden[-1])\n",
        "    output_list.append(output.detach().numpy()[0][0])"
      ],
      "metadata": {
        "id": "nzGzYSyRAD9u"
      },
      "execution_count": null,
      "outputs": []
    },
    {
      "cell_type": "code",
      "source": [
        "# train_predict = lstm(X_ss)#forward pass\n",
        "# data_predict = train_predict.data.numpy() #numpy conversion\n",
        "dataY_plot = y.Volume.values\n",
        "# data_predict = output_list\n",
        "\n",
        "data_predict = mm.inverse_transform([output_list]) #reverse transformation\n",
        "# dataY_plot = mm.inverse_transform(dataY_plot)\n",
        "plt.figure(figsize=(10,6)) #plotting\n",
        "plt.axvline(x=200, c='r', linestyle='--') #size of the training set\n",
        "\n",
        "plt.plot(dataY_plot, label='Actuall Data') #actual plot\n",
        "plt.plot(data_predict[0], label='Predicted Data') #predicted plot\n",
        "plt.title('Time-Series Prediction')\n",
        "plt.legend()\n",
        "plt.show() "
      ],
      "metadata": {
        "id": "iDj2zehSAD9u",
        "colab": {
          "base_uri": "https://localhost:8080/",
          "height": 391
        },
        "outputId": "10865192-4f93-4cbb-d965-f4775862bb6a"
      },
      "execution_count": null,
      "outputs": [
        {
          "output_type": "display_data",
          "data": {
            "text/plain": [
              "<Figure size 720x432 with 1 Axes>"
            ],
            "image/png": "[encoded data removed]"
          },
          "metadata": {}
        }
      ]
    },
    {
      "cell_type": "code",
      "source": [
        "# Save the trained RNN model\n",
        "torch.save(lstm.state_dict(), 'lstm.pt')\n",
        "\n",
        "# Load the model\n",
        "rnn = nn.LSTM(input_size, hidden_size, batch_first=True)\n",
        "rnn.load_state_dict(torch.load('lstm.pt'))"
      ],
      "metadata": {
        "id": "ipd2e3sIAD9u",
        "colab": {
          "base_uri": "https://localhost:8080/"
        },
        "outputId": "685c1bfb-7ecb-49cf-8606-ed901fd208c5"
      },
      "execution_count": null,
      "outputs": [
        {
          "output_type": "execute_result",
          "data": {
            "text/plain": [
              "<All keys matched successfully>"
            ]
          },
          "metadata": {},
          "execution_count": 67
        }
      ]
    }
  ]
}